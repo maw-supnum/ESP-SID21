{
 "cells": [
  {
   "cell_type": "markdown",
   "metadata": {},
   "source": [
    "# Distribution conjointe de deux variables aléatoires\n",
    "\n",
    "Dans cette partie, nous allons construire la distribution conjointe de deux variables aléatoires. \\\n",
    "La première correspond au prix du riz et la seconde correspond au prix de la viande. \\\n",
    "Nous prévoyons d'aller dans une épicerie aléatoire de la ville pour faire nos achats quotidiens.\n",
    "\n",
    "\n",
    "Nous supposons qu'il y a 9 grands grossistes de riz dans la ville et 6 grands grossistes de viande. \\\n",
    "Chaque épicerie de la ville a un contrat avec l'un des grossistes de riz et l'un des grossistes de viande. \\\n",
    "Nous supposons que l'épicerie vendrait au même prix que celui du grossiste. \\\n",
    "Enfin, nous supposons qu'aucune épicerie n'a les mêmes grossistes de viande et de riz en même temps.\n",
    "\n",
    "\n",
    "Voici les prix fixés par les grossistes de riz (axe des x) : 101, 102, 103, 104, 105, 106, 107, 108, 109 \\\n",
    "Voici les prix fixés par les grossistes de viande (axe des y) : 101, 102, 103, 104, 105, 106\n",
    "\n",
    "\n",
    "Voici comment les épiceries sont distribuées dans la ville :\n",
    "- 1 épicerie a un contrat avec le grossiste de riz 101 et le grossiste de viande 105 -> 101, 105\n",
    "- 1 épicerie a un contrat avec le grossiste de riz 102 et le grossiste de viande 104 -> 102, 104\n",
    "- 1 épicerie a un contrat avec le grossiste de riz 102 et le grossiste de viande 105 -> 102, 105\n",
    "- 1 épicerie a un contrat avec le grossiste de riz 103 et le grossiste de viande 103 -> 103, 103\n",
    "- 1 épicerie a un contrat avec le grossiste de riz 103 et le grossiste de viande 104 -> 103, 104\n",
    "- 1 épicerie a un contrat avec le grossiste de riz 103 et le grossiste de viande 105 -> 103, 105\n",
    "- 1 épicerie a un contrat avec le grossiste de riz 104 et le grossiste de viande 102 -> 104, 102\n",
    "- 1 épicerie a un contrat avec le grossiste de riz 104 et le grossiste de viande 103 -> 104, 103\n",
    "- 1 épicerie a un contrat avec le grossiste de riz 104 et le grossiste de viande 104 -> 104, 104\n",
    "- 1 épicerie a un contrat avec le grossiste de riz 104 et le grossiste de viande 105 -> 104, 105\n",
    "- 1 épicerie a un contrat avec le grossiste de riz 104 et le grossiste de viande 106 -> 104, 106\n",
    "- 1 épicerie a un contrat avec le grossiste de riz 105 et le grossiste de viande 101 -> 105, 101  \n",
    "- 1 épicerie a un contrat avec le grossiste de riz 105 et le grossiste de viande 102 -> 105, 102\n",
    "- 1 épicerie a un contrat avec le grossiste de riz 105 et le grossiste de viande 103 -> 105, 103\n",
    "- 1 épicerie a un contrat avec le grossiste de riz 105 et le grossiste de viande 104 -> 105, 104\n",
    "- 1 épicerie a un contrat avec le grossiste de riz 105 et le grossiste de viande 105 -> 105, 105\n",
    "- 1 épicerie a un contrat avec le grossiste de riz 105 et le grossiste de viande 106 -> 105, 106\n",
    "- 1 épicerie a un contrat avec le grossiste de riz 106 et le grossiste de viande 102 -> 106, 102\n",
    "- 1 épicerie a un contrat avec le grossiste de riz 106 et le grossiste de viande 103 -> 106, 103\n",
    "- 1 épicerie a un contrat avec le grossiste de riz 106 et le grossiste de viande 104 -> 106, 104\n",
    "- 1 épicerie a un contrat avec le grossiste de riz 106 et le grossiste de viande 105 -> 106, 105\n",
    "- 1 épicerie a un contrat avec le grossiste de riz 106 et le grossiste de viande 106 -> 106, 106  \n",
    "- 1 épicerie a un contrat avec le grossiste de riz 107 et le grossiste de viande 103 -> 107, 103\n",
    "- 1 épicerie a un contrat avec le grossiste de riz 107 et le grossiste de viande 104 -> 107, 104\n",
    "- 1 épicerie a un contrat avec le grossiste de riz 107 et le grossiste de viande 105 -> 107, 105\n",
    "- 1 épicerie a un contrat avec le grossiste de riz 108 et le grossiste de viande 104 -> 108, 104\n",
    "- 1 épicerie a un contrat avec le grossiste de riz 108 et le grossiste de viande 105 -> 108, 105\n",
    "- 1 épicerie a un contrat avec le grossiste de riz 109 et le grossiste de viande 105 -> 109, 105\n",
    "\n"
   ]
  },
  {
   "cell_type": "code",
   "execution_count": null,
   "metadata": {},
   "outputs": [],
   "source": [
    "# Importation des bibliothèques nécessaires\n",
    "import numpy as np\n",
    "import matplotlib.pyplot as plt\n",
    "\n",
    "\n",
    "# Création des combinaisons d'épiceries\n",
    "combinations = np.array([[101, 105], [102, 104], [102, 105], [103, 103], [103, 104], [103, 105], \n",
    "                [104, 102], [104, 103], [104, 104], [104, 105], [105, 101], [105, 102], [105, 103], [105, 104], [105, 105],\n",
    "                [106, 102], [106, 103], [106, 104], [106, 105], [107, 103], [107, 104], [107, 105], [108, 104], [108, 105],\n",
    "                [109, 105], [104, 106,], [105, 106], [106, 106]\n",
    "                ])\n",
    "combinations_i = combinations[:, 0]\n",
    "combinations_j = combinations[:, 1]\n",
    "\n",
    "# Tracer les données dispersées\n",
    "plt.scatter(combinations_i, combinations_j)\n",
    "plt.xlabel('prix du riz en MRU')\n",
    "plt.ylabel('prix de la viande en MRU')\n",
    "plt.title('Nuage de points de x et y')\n",
    "\n",
    "# Définir les limites\n",
    "plt.xlim(100, 110)\n",
    "plt.ylim(100, 107)\n",
    "\n",
    "plt.show()"
   ]
  },
  {
   "cell_type": "markdown",
   "metadata": {},
   "source": [
    "Nous déduisons que nous établissons une distribution uniforme à partir des points ci-dessus\n",
    "\n",
    "- calculer la probabilité de chaque point ?\n",
    "- quel serait le montant attendu à payer si nous allons dans une épicerie aléatoire de la ville ?"
   ]
  },
  {
   "cell_type": "markdown",
   "metadata": {},
   "source": [
    "Nous avons la possibilité d'aller dans une épicerie choisie au hasard. Et nous avons que chaque point correspond à une et une seule épicerie. \\\n",
    "Ainsi, nous avons que la probabilité de chaque point est **1/28**. \\\n",
    "Nous pouvons calculer la valeur attendue en additionnant le produit du prix du riz et de la viande par la probabilité de chaque point. "
   ]
  },
  {
   "cell_type": "code",
   "execution_count": null,
   "metadata": {},
   "outputs": [],
   "source": [
    "# Maintenant, nous allons calculer le montant attendu à payer si nous achetons 1kg de riz et 1kg de viande\n",
    "# D'abord, calculons la somme x + y pour chaque point (épicerie)\n",
    "totals = combinations.sum(axis=1)\n",
    "\n",
    "for total, point in zip(totals, combinations):\n",
    "    print(f\"point : {point}, total à payer : {total}\")"
   ]
  },
  {
   "cell_type": "code",
   "execution_count": null,
   "metadata": {},
   "outputs": [],
   "source": [
    "# En moyenne, nous devrons payer : S_i (x_i + y_i) / n\n",
    "average_total = np.mean(totals)\n",
    "print(f\"Montant total moyen à payer : {average_total}\")"
   ]
  },
  {
   "cell_type": "markdown",
   "metadata": {},
   "source": [
    "# La distribution marginale de x\n",
    "\n",
    "Maintenant, nous ne sommes intéressés que par l'achat de riz (noté x). \n",
    "- Dessiner un histogramme de la distribution marginale de x. \n",
    "- Calculer et dessiner la distribution cumulée de x.\n",
    "- Quel est le prix attendu du riz ?"
   ]
  },
  {
   "cell_type": "code",
   "execution_count": null,
   "metadata": {},
   "outputs": [],
   "source": [
    "# Collecter les données\n",
    "x = combinations_i\n",
    "\n",
    "# Tracer l'histogramme\n",
    "plt.hist(x, bins=100)\n",
    "plt.xlabel('prix du riz en MRU')\n",
    "plt.ylabel('nombre d\\'épiceries avec ce prix')\n",
    "plt.title('Histogramme de x')\n",
    "\n",
    "# Définir les limites\n",
    "plt.xlim(99, 110)\n",
    "\n",
    "plt.show()"
   ]
  },
  {
   "cell_type": "code",
   "execution_count": null,
   "metadata": {},
   "outputs": [],
   "source": [
    "# Tracer la probabilité\n",
    "plt.hist(x, bins=100, weights=np.ones_like(x)/len(x))\n",
    "plt.xlabel('prix du riz en MRU')\n",
    "plt.ylabel('probabilité')\n",
    "plt.title('Probabilité marginale de x')\n",
    "\n",
    "# Définir les limites\n",
    "plt.xlim(99, 110)\n",
    "plt.ylim(0, 0.25)\n",
    "\n",
    "plt.show()"
   ]
  },
  {
   "cell_type": "code",
   "execution_count": null,
   "metadata": {},
   "outputs": [],
   "source": [
    "hist, bins = np.histogram(x, bins=100)\n",
    "probas = []\n",
    "\n",
    "for e, bin in zip(hist, bins):\n",
    "    if e:\n",
    "        print(f\"Probabilité de x = {round(bin)} est {e}/{len(x)} = {e/len(x)}\")\n",
    "        probas.append((round(bin), float(e/len(x))))"
   ]
  },
  {
   "cell_type": "code",
   "execution_count": null,
   "metadata": {},
   "outputs": [],
   "source": [
    "# Tracer la probabilité\n",
    "plt.hist(x, bins=100, weights=np.ones_like(x)/len(x), cumulative=True, histtype='barstacked')\n",
    "plt.xlabel('prix du riz en MRU')\n",
    "plt.ylabel('distribution cumulée')\n",
    "plt.title('Distribution cumulée marginale de x')\n",
    "\n",
    "# Définir les limites\n",
    "plt.xlim(99, 110)\n",
    "plt.ylim(0, 1.1)\n",
    "\n",
    "plt.show()"
   ]
  },
  {
   "cell_type": "code",
   "execution_count": null,
   "metadata": {},
   "outputs": [],
   "source": [
    "# Le prix moyen à payer pour le riz si nous achetons 1kg de riz dans une épicerie aléatoire est S_i x_i / n\n",
    "average_price = np.mean(x)\n",
    "\n",
    "print(f\"Prix moyen à payer pour le riz : {average_price}\")"
   ]
  },
  {
   "cell_type": "markdown",
   "metadata": {},
   "source": [
    "# Distribution marginale de y (exercice) - Rendu de TP"
   ]
  },
  {
   "cell_type": "markdown",
   "metadata": {},
   "source": [
    "Notre compagnon n'est intéressé que par l'achat de viande (notée y).\n",
    "- Dessiner un histogramme de la distribution marginale de y.\n",
    "- Calculer et dessiner la distribution cumulée de y.\n",
    "- Quel est le prix attendu que notre compagnon paierait pour la viande ?"
   ]
  },
  {
   "cell_type": "markdown",
   "metadata": {},
   "source": [
    "# Distribution conditionnelle de x sachant y"
   ]
  },
  {
   "cell_type": "markdown",
   "metadata": {},
   "source": [
    "Quand nous sommes finalement arrivés au centre-ville pour acheter du riz, quelqu'un nous a dit que le prix de la viande dans la région est de 105.\n",
    "- Dessiner un histogramme de la distribution conditionnelle de x (le prix du riz) sachant que si nous devions acheter de la viande, elle coûterait 105 (y).\n",
    "- Calculer et dessiner la distribution cumulée de x sachant que y=105.\n",
    "- Quel est le prix attendu du riz sachant que le prix de la viande est de 105 ?\n"
   ]
  },
  {
   "cell_type": "code",
   "execution_count": null,
   "metadata": {},
   "outputs": [],
   "source": [
    "# Tracer l'histogramme pour la distribution conditionnelle de x sachant y=105\n",
    "x_given_y_105 = combinations_i[combinations_j == 105]\n",
    "\n",
    "plt.hist(x_given_y_105, bins=100)\n",
    "plt.xlabel('prix du riz en MRU')\n",
    "plt.ylabel('nombre d\\'épiceries avec ce prix')\n",
    "plt.title('Histogramme de x sachant y=105')\n",
    "\n",
    "# Définir les limites\n",
    "plt.xlim(99, 110)\n",
    "\n",
    "plt.show()"
   ]
  },
  {
   "cell_type": "code",
   "execution_count": null,
   "metadata": {},
   "outputs": [],
   "source": [
    "# Tracer la probabilité\n",
    "plt.hist(x_given_y_105, bins=100, weights=np.ones_like(x_given_y_105)/len(x_given_y_105))\n",
    "plt.xlabel('prix du riz en MRU')\n",
    "plt.ylabel('probabilité')\n",
    "plt.title('Probabilité conditionnelle de x sachant y=105')\n",
    "\n",
    "# Définir les limites\n",
    "plt.xlim(99, 110)\n",
    "\n",
    "plt.show()"
   ]
  },
  {
   "cell_type": "code",
   "execution_count": null,
   "metadata": {},
   "outputs": [],
   "source": [
    "hist, bins = np.histogram(x_given_y_105, bins=100)\n",
    "probas = []\n",
    "\n",
    "for e, bin in zip(hist, bins):\n",
    "    if e:\n",
    "        print(f\"Probabilité de x = {round(bin)} sachant y=105 est {e}/{len(x_given_y_105)} = {e/len(x_given_y_105)}\")\n",
    "        probas.append((round(bin), float(e/len(x_given_y_105))))"
   ]
  },
  {
   "cell_type": "code",
   "execution_count": null,
   "metadata": {},
   "outputs": [],
   "source": [
    "# Tracer la distribution cumulée de x sachant y=105\n",
    "plt.hist(x_given_y_105, bins=100, weights=np.ones_like(x_given_y_105)/len(x_given_y_105), cumulative=True, histtype='barstacked')\n",
    "plt.xlabel('prix du riz en MRU')\n",
    "plt.ylabel('distribution cumulée')\n",
    "plt.title('Distribution cumulée conditionnelle de x sachant y=105')\n",
    "\n",
    "# Définir les limites\n",
    "plt.xlim(99, 110)\n",
    "\n",
    "plt.show()"
   ]
  },
  {
   "cell_type": "code",
   "execution_count": null,
   "metadata": {},
   "outputs": [],
   "source": [
    "# Calculer le prix moyen à payer pour le riz sachant y=105\n",
    "average_price_given_y_105 = np.mean(x_given_y_105)\n",
    "\n",
    "print(f\"Sachant que si nous devions acheter 1kg de viande cela coûterait 105 MRU, le prix moyen à payer pour le riz est de {average_price_given_y_105} MRU\")"
   ]
  },
  {
   "cell_type": "markdown",
   "metadata": {},
   "source": [
    "# Distribution conditionnelle de y sachant x (exercice) - Rendu de TP\n",
    "\n",
    "Notre compagnon est allé au centre-ville pour acheter de la viande et quelqu'un lui a dit que le prix du riz dans la région est de 103.\n",
    "- Dessiner un histogramme de la distribution conditionnelle de y (le prix de la viande) sachant que s'il devait acheter du riz, cela lui coûterait 103 (x).\n",
    "- Calculer et dessiner la distribution cumulée de y sachant que x=103.\n",
    "- Quel est le prix attendu de la viande sachant que le prix du riz est de 103 ?\n"
   ]
  }
 ],
 "metadata": {
  "kernelspec": {
   "display_name": ".venv",
   "language": "python",
   "name": "python3"
  },
  "language_info": {
   "codemirror_mode": {
    "name": "ipython",
    "version": 3
   },
   "file_extension": ".py",
   "mimetype": "text/x-python",
   "name": "python",
   "nbconvert_exporter": "python",
   "pygments_lexer": "ipython3",
   "version": "3.12.3"
  }
 },
 "nbformat": 4,
 "nbformat_minor": 2
}
