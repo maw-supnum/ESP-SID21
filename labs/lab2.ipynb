{
 "cells": [
  {
   "cell_type": "markdown",
   "metadata": {},
   "source": [
    "# TP Estimation Statistique Avancée\n",
    "\n",
    "Dans ce TP, nous allons explorer différentes méthodes d'estimation statistique :\n",
    "* Estimation ponctuelle (méthode des moments et maximum de vraisemblance)\n",
    "* Estimation par intervalle de confiance pour une moyenne (variance connue et inconnue)"
   ]
  },
  {
   "cell_type": "code",
   "execution_count": null,
   "metadata": {},
   "outputs": [],
   "source": [
    "# Importation des bibliothèques nécessaires\n",
    "import numpy as np\n",
    "import matplotlib.pyplot as plt\n",
    "import scipy.stats as stats\n",
    "from scipy.optimize import minimize\n",
    "\n",
    "\n",
    "# Configuration de l'affichage\n",
    "plt.style.use('seaborn-v0_8-whitegrid')\n",
    "np.random.seed(0)  # Pour la reproductibilité"
   ]
  },
  {
   "cell_type": "markdown",
   "metadata": {},
   "source": [
    "## 1. Estimation ponctuelle\n",
    "\n",
    "L'estimation ponctuelle consiste à estimer un paramètre inconnu d'une distribution par une valeur unique calculée à partir d'un échantillon. Nous allons explorer deux méthodes principales :\n",
    "* Méthode des moments\n",
    "* Maximum de vraisemblance"
   ]
  },
  {
   "cell_type": "markdown",
   "metadata": {},
   "source": [
    "### 1.1 Méthode des moments\n",
    "\n",
    "La méthode des moments consiste à égaler les moments théoriques de la distribution aux moments empiriques calculés à partir de l'échantillon.\n",
    "\n",
    "Prenons l'exemple d'une distribution exponentielle où nous voulons estimer le paramètre λ."
   ]
  },
  {
   "cell_type": "code",
   "execution_count": null,
   "metadata": {},
   "outputs": [],
   "source": [
    "# Génération d'un échantillon suivant une loi exponentielle\n",
    "lambda_true = 0.5  # Valeur réelle du paramètre λ\n",
    "taille_echantillon = 1000\n",
    "echantillon_exp = np.random.exponential(scale=1/lambda_true, size=taille_echantillon)\n",
    "\n",
    "# Visualisation de l'échantillon\n",
    "plt.figure(figsize=(10, 6))\n",
    "plt.hist(echantillon_exp, bins=30, density=True, alpha=0.7, label='Échantillon')\n",
    "\n",
    "# Superposition de la densité théorique\n",
    "x = np.linspace(0, 15, 1000)\n",
    "y = lambda_true * np.exp(-lambda_true * x)\n",
    "plt.plot(x, y, 'r-', linewidth=2, label=f'Densité théorique (λ={lambda_true})')\n",
    "\n",
    "plt.title('Distribution exponentielle')\n",
    "plt.xlabel('x')\n",
    "plt.ylabel('Densité')\n",
    "plt.legend()\n",
    "plt.show()"
   ]
  },
  {
   "cell_type": "code",
   "execution_count": null,
   "metadata": {},
   "outputs": [],
   "source": [
    "# Estimation de λ par la méthode des moments\n",
    "# Pour une loi exponentielle, E[X] = 1/λ\n",
    "# Donc λ = 1/E[X]\n",
    "lambda_moments = 1 / np.mean(echantillon_exp)\n",
    "\n",
    "print(f\"Valeur réelle de λ : {lambda_true}\")\n",
    "print(f\"Estimation de λ par la méthode des moments : {lambda_moments:.6f}\")\n",
    "print(f\"Erreur relative : {100 * abs(lambda_moments - lambda_true) / lambda_true:.2f}%\")"
   ]
  },
  {
   "cell_type": "markdown",
   "metadata": {},
   "source": [
    "Illustrons maintenant la méthode des moments pour une distribution normale où nous voulons estimer μ et σ²."
   ]
  },
  {
   "cell_type": "code",
   "execution_count": null,
   "metadata": {},
   "outputs": [],
   "source": [
    "# Génération d'un échantillon suivant une loi normale\n",
    "mu_true = 3\n",
    "sigma_true = 1.5\n",
    "echantillon_norm = np.random.normal(loc=mu_true, scale=sigma_true, size=taille_echantillon)\n",
    "\n",
    "# Visualisation de l'échantillon\n",
    "plt.figure(figsize=(10, 6))\n",
    "plt.hist(echantillon_norm, bins=30, density=True, alpha=0.7, label='Échantillon')\n",
    "\n",
    "# Superposition de la densité théorique\n",
    "x = np.linspace(mu_true - 4*sigma_true, mu_true + 4*sigma_true, 1000)\n",
    "y = stats.norm.pdf(x, mu_true, sigma_true)\n",
    "plt.plot(x, y, 'r-', linewidth=2, label=f'Densité théorique (μ={mu_true}, σ={sigma_true})')\n",
    "\n",
    "plt.title('Distribution normale')\n",
    "plt.xlabel('x')\n",
    "plt.ylabel('Densité')\n",
    "plt.legend()\n",
    "plt.show()"
   ]
  },
  {
   "cell_type": "code",
   "execution_count": null,
   "metadata": {},
   "outputs": [],
   "source": [
    "# Estimation par la méthode des moments\n",
    "# Pour une loi normale, E[X] = μ et Var(X) = σ²\n",
    "mu_moments = np.mean(echantillon_norm)\n",
    "sigma2_moments = np.var(echantillon_norm)\n",
    "sigma_moments = np.sqrt(sigma2_moments)\n",
    "\n",
    "print(f\"Valeurs réelles : μ = {mu_true}, σ = {sigma_true}, σ² = {sigma_true**2}\")\n",
    "print(f\"Estimations par la méthode des moments :\")\n",
    "print(f\"  μ = {mu_moments:.6f}\")\n",
    "print(f\"  σ = {sigma_moments:.6f}\")\n",
    "print(f\"  σ² = {sigma2_moments:.6f}\")\n",
    "print(f\"Erreurs relatives : μ = {100 * abs(mu_moments - mu_true) / mu_true:.2f}%, σ = {100 * abs(sigma_moments - sigma_true) / sigma_true:.2f}%\")"
   ]
  },
  {
   "cell_type": "markdown",
   "metadata": {},
   "source": [
    "### 1.2 Maximum de vraisemblance\n",
    "\n",
    "Le principe du maximum de vraisemblance consiste à choisir comme estimateur la valeur du paramètre qui maximise la probabilité d'observer l'échantillon donné.\n",
    "\n",
    "Commençons par l'exemple de la loi exponentielle."
   ]
  },
  {
   "cell_type": "code",
   "execution_count": null,
   "metadata": {},
   "outputs": [],
   "source": [
    "# Fonction de log-vraisemblance pour une loi exponentielle\n",
    "def log_vraisemblance_exp(lambda_val, data):\n",
    "    # log L(λ) = n log(λ) - λ Σx_i\n",
    "    n = len(data)\n",
    "    return -1 * (n * np.log(lambda_val) - lambda_val * np.sum(data))  # On minimise -log L\n",
    "\n",
    "# Estimation de λ par maximum de vraisemblance\n",
    "resultat = minimize(log_vraisemblance_exp, x0=[0.1], args=(echantillon_exp,), bounds=[(1e-10, None)])\n",
    "lambda_mle = resultat.x[0]\n",
    "\n",
    "# Comparaison avec la méthode des moments\n",
    "print(f\"Valeur réelle de λ : {lambda_true}\")\n",
    "print(f\"Estimation de λ par maximum de vraisemblance : {lambda_mle:.6f}\")\n",
    "print(f\"Estimation de λ par la méthode des moments : {lambda_moments:.6f}\")\n",
    "print(f\"Erreur relative (MLE) : {100 * abs(lambda_mle - lambda_true) / lambda_true:.2f}%\")"
   ]
  },
  {
   "cell_type": "markdown",
   "metadata": {},
   "source": [
    "Pour une loi exponentielle, l'estimateur du maximum de vraisemblance est en fait identique à l'estimateur des moments : λ = 1/x̄.\n",
    "\n",
    "Vérifions :"
   ]
  },
  {
   "cell_type": "code",
   "execution_count": null,
   "metadata": {},
   "outputs": [],
   "source": [
    "# Calcul direct de l'estimateur du maximum de vraisemblance\n",
    "lambda_mle_direct = 1 / np.mean(echantillon_exp)\n",
    "print(f\"MLE direct : {lambda_mle_direct:.6f}\")\n",
    "print(f\"MLE par optimisation : {lambda_mle:.6f}\")\n",
    "print(f\"Différence : {abs(lambda_mle_direct - lambda_mle):.10f}\")"
   ]
  },
  {
   "cell_type": "markdown",
   "metadata": {},
   "source": [
    "Maintenant, utilisons le maximum de vraisemblance pour estimer les paramètres d'une distribution normale."
   ]
  },
  {
   "cell_type": "code",
   "execution_count": null,
   "metadata": {},
   "outputs": [],
   "source": [
    "# Fonction de log-vraisemblance pour une loi normale\n",
    "def log_vraisemblance_norm(params, data):\n",
    "    mu, sigma = params\n",
    "    n = len(data)\n",
    "    # log L(μ,σ) = -n/2 log(2π) - n log(σ) - 1/(2σ²) Σ(x_i - μ)²\n",
    "    return -1 * (-n/2 * np.log(2*np.pi) - n * np.log(sigma) - 1/(2*sigma**2) * np.sum((data - mu)**2))\n",
    "\n",
    "# Estimation par maximum de vraisemblance\n",
    "resultat = minimize(log_vraisemblance_norm, x0=[0, 1], args=(echantillon_norm,), bounds=[(None, None), (1e-10, None)])\n",
    "mu_mle, sigma_mle = resultat.x\n",
    "\n",
    "# Comparaison avec la méthode des moments\n",
    "print(f\"Valeurs réelles : μ = {mu_true}, σ = {sigma_true}\")\n",
    "print(f\"Estimations par maximum de vraisemblance : μ = {mu_mle:.6f}, σ = {sigma_mle:.6f}\")\n",
    "print(f\"Estimations par la méthode des moments : μ = {mu_moments:.6f}, σ = {sigma_moments:.6f}\")"
   ]
  },
  {
   "cell_type": "markdown",
   "metadata": {},
   "source": [
    "Pour une loi normale, les estimateurs du maximum de vraisemblance pour μ et σ sont :\n",
    "- μ̂ = 1/n Σx_i (la moyenne empirique)\n",
    "- σ̂² = 1/n Σ(x_i - μ̂)² (la variance biaisée)\n",
    "\n",
    "Vérifions :"
   ]
  },
  {
   "cell_type": "code",
   "execution_count": null,
   "metadata": {},
   "outputs": [],
   "source": [
    "# Calcul direct des estimateurs du maximum de vraisemblance\n",
    "mu_mle_direct = np.mean(echantillon_norm)\n",
    "# Notez que c'est la variance biaisée (divisée par n et non par n-1)\n",
    "sigma_mle_direct = np.sqrt(np.sum((echantillon_norm - mu_mle_direct)**2) / len(echantillon_norm))\n",
    "\n",
    "print(f\"MLE direct : μ = {mu_mle_direct:.6f}, σ = {sigma_mle_direct:.6f}\")\n",
    "print(f\"MLE par optimisation : μ = {mu_mle:.6f}, σ = {sigma_mle:.6f}\")"
   ]
  },
  {
   "cell_type": "markdown",
   "metadata": {},
   "source": [
    "Visualisons la fonction de vraisemblance pour la loi normale :"
   ]
  },
  {
   "cell_type": "code",
   "execution_count": null,
   "metadata": {},
   "outputs": [],
   "source": [
    "# Création d'une grille de valeurs pour μ et σ\n",
    "mu_range = np.linspace(mu_true - 1, mu_true + 1, 100)\n",
    "sigma_range = np.linspace(sigma_true - 0.5, sigma_true + 0.5, 100)\n",
    "mu_grid, sigma_grid = np.meshgrid(mu_range, sigma_range)\n",
    "\n",
    "# Calcul de la log-vraisemblance pour chaque point de la grille\n",
    "log_vrais = np.zeros(mu_grid.shape)\n",
    "for i in range(len(mu_range)):\n",
    "    for j in range(len(sigma_range)):\n",
    "        log_vrais[j, i] = -log_vraisemblance_norm([mu_grid[j, i], sigma_grid[j, i]], echantillon_norm)\n",
    "\n",
    "# Visualisation en 3D\n",
    "fig = plt.figure(figsize=(12, 10))\n",
    "ax = fig.add_subplot(111, projection='3d')\n",
    "surf = ax.plot_surface(mu_grid, sigma_grid, log_vrais, cmap='viridis', alpha=0.8)\n",
    "ax.set_xlabel('μ')\n",
    "ax.set_ylabel('σ')\n",
    "ax.set_zlabel('Log-Vraisemblance')\n",
    "ax.set_title('Fonction de Log-Vraisemblance pour une loi normale')\n",
    "\n",
    "# Ajout du point maximum\n",
    "ax.scatter([mu_mle], [sigma_mle], [-log_vraisemblance_norm([mu_mle, sigma_mle], echantillon_norm)], \n",
    "           color='red', s=100, label='Maximum')\n",
    "ax.legend()\n",
    "plt.show()\n",
    "\n",
    "# Visualisation en 2D (courbes de niveau)\n",
    "plt.figure(figsize=(10, 8))\n",
    "contour = plt.contourf(mu_grid, sigma_grid, log_vrais, 50, cmap='viridis')\n",
    "plt.colorbar(contour, label='Log-Vraisemblance')\n",
    "plt.plot(mu_mle, sigma_mle, 'ro', markersize=10, label='Maximum')\n",
    "plt.xlabel('μ')\n",
    "plt.ylabel('σ')\n",
    "plt.title('Courbes de niveau de la Log-Vraisemblance')\n",
    "plt.legend()\n",
    "plt.show()"
   ]
  },
  {
   "cell_type": "markdown",
   "metadata": {},
   "source": [
    "## 2. Estimation par intervalle de confiance\n",
    "\n",
    "Un intervalle de confiance fournit une plage de valeurs plausibles pour un paramètre inconnu, avec un certain niveau de confiance (généralement 95%)."
   ]
  },
  {
   "cell_type": "markdown",
   "metadata": {},
   "source": [
    "### 2.1 Intervalle de confiance pour la moyenne d'une loi normale (variance connue)\n",
    "\n",
    "Supposons que nous connaissons la variance σ² de la population et que nous voulons estimer la moyenne μ."
   ]
  },
  {
   "cell_type": "code",
   "execution_count": null,
   "metadata": {},
   "outputs": [],
   "source": [
    "# Génération d'un nouvel échantillon\n",
    "mu_true = 10\n",
    "sigma_true = 2\n",
    "taille_echantillon = 50  # Échantillon plus petit pour mieux illustrer\n",
    "echantillon = np.random.normal(loc=mu_true, scale=sigma_true, size=taille_echantillon)\n",
    "\n",
    "# Calcul de la moyenne échantillonnale\n",
    "moyenne_echantillon = np.mean(echantillon)\n",
    "\n",
    "# Niveau de confiance\n",
    "alpha = 0.05  # 95% de confiance\n",
    "z_alpha_2 = stats.norm.ppf(1 - alpha/2)  # Quantile de la loi normale centrée réduite\n",
    "\n",
    "# Erreur standard (écart-type de la moyenne échantillonnale)\n",
    "erreur_standard = sigma_true / np.sqrt(taille_echantillon)\n",
    "\n",
    "# Intervalle de confiance\n",
    "ic_inf = moyenne_echantillon - z_alpha_2 * erreur_standard\n",
    "ic_sup = moyenne_echantillon + z_alpha_2 * erreur_standard\n",
    "\n",
    "print(f\"Moyenne réelle : {mu_true}\")\n",
    "print(f\"Moyenne échantillonnale : {moyenne_echantillon:.4f}\")\n",
    "print(f\"Intervalle de confiance à 95% : [{ic_inf:.4f}, {ic_sup:.4f}]\")\n",
    "print(f\"Largeur de l'intervalle : {ic_sup - ic_inf:.4f}\")\n",
    "print(f\"La moyenne réelle est dans l'intervalle : {ic_inf <= mu_true <= ic_sup}\")"
   ]
  },
  {
   "cell_type": "markdown",
   "metadata": {},
   "source": [
    "Visualisons l'intervalle de confiance :"
   ]
  },
  {
   "cell_type": "code",
   "execution_count": null,
   "metadata": {},
   "outputs": [],
   "source": [
    "plt.figure(figsize=(12, 6))\n",
    "\n",
    "# Densité de la loi normale de la moyenne échantillonnale\n",
    "x = np.linspace(moyenne_echantillon - 4*erreur_standard, moyenne_echantillon + 4*erreur_standard, 1000)\n",
    "y = stats.norm.pdf(x, moyenne_echantillon, erreur_standard)\n",
    "\n",
    "plt.plot(x, y, 'b-', linewidth=2, label='Distribution de la moyenne échantillonnale')\n",
    "\n",
    "# Coloration de l'intervalle de confiance\n",
    "x_ic = np.linspace(ic_inf, ic_sup, 100)\n",
    "y_ic = stats.norm.pdf(x_ic, moyenne_echantillon, erreur_standard)\n",
    "plt.fill_between(x_ic, y_ic, color='skyblue', alpha=0.4, label='Intervalle de confiance à 95%')\n",
    "\n",
    "# Ajout des lignes verticales\n",
    "plt.axvline(x=mu_true, color='r', linestyle='--', label='Moyenne réelle')\n",
    "plt.axvline(x=moyenne_echantillon, color='g', linestyle='-', label='Moyenne échantillonnale')\n",
    "plt.axvline(x=ic_inf, color='b', linestyle=':', label='Bornes de l\\'intervalle')\n",
    "plt.axvline(x=ic_sup, color='b', linestyle=':')\n",
    "\n",
    "plt.title('Intervalle de confiance pour la moyenne (variance connue)')\n",
    "plt.xlabel('Valeur')\n",
    "plt.ylabel('Densité')\n",
    "plt.legend()\n",
    "plt.grid(True)\n",
    "plt.show()"
   ]
  },
  {
   "cell_type": "markdown",
   "metadata": {},
   "source": [
    "Illustrons l'effet de la taille de l'échantillon sur la largeur de l'intervalle de confiance :"
   ]
  },
  {
   "cell_type": "code",
   "execution_count": null,
   "metadata": {},
   "outputs": [],
   "source": [
    "# Différentes tailles d'échantillon\n",
    "tailles = [10, 30, 50, 100, 200, 500, 1000]\n",
    "largeurs = []\n",
    "\n",
    "for n in tailles:\n",
    "    # Erreur standard\n",
    "    erreur_std = sigma_true / np.sqrt(n)\n",
    "    # Largeur de l'intervalle de confiance\n",
    "    largeur = 2 * z_alpha_2 * erreur_std\n",
    "    largeurs.append(largeur)\n",
    "\n",
    "plt.figure(figsize=(10, 6))\n",
    "plt.plot(tailles, largeurs, 'bo-', linewidth=2)\n",
    "plt.title('Largeur de l\\'intervalle de confiance en fonction de la taille de l\\'échantillon')\n",
    "plt.xlabel('Taille de l\\'échantillon')\n",
    "plt.ylabel('Largeur de l\\'intervalle')\n",
    "plt.xscale('log')\n",
    "plt.grid(True)\n",
    "plt.show()"
   ]
  },
  {
   "cell_type": "markdown",
   "metadata": {},
   "source": [
    "### 2.2 Intervalle de confiance pour la moyenne d'une loi normale (variance inconnue)\n",
    "\n",
    "Lorsque la variance σ² est inconnue, nous l'estimons à partir de l'échantillon et utilisons la loi de Student (t) au lieu de la loi normale."
   ]
  },
  {
   "cell_type": "code",
   "execution_count": null,
   "metadata": {},
   "outputs": [],
   "source": [
    "# Utilisation du même échantillon que précédemment, mais nous \"oublions\" la variance réelle\n",
    "# et l'estimons à partir de l'échantillon\n",
    "\n",
    "# Estimation de la variance (non biaisée)\n",
    "variance_estimee = np.var(echantillon, ddof=1)  # ddof=1 pour utiliser n-1 au dénominateur\n",
    "ecart_type_estime = np.sqrt(variance_estimee)\n",
    "\n",
    "# Erreur standard estimée\n",
    "erreur_standard_estimee = ecart_type_estime / np.sqrt(taille_echantillon)\n",
    "\n",
    "# Quantile de la loi de Student\n",
    "t_alpha_2 = stats.t.ppf(1 - alpha/2, df=taille_echantillon-1)  # df = degrés de liberté = n-1\n",
    "\n",
    "# Intervalle de confiance selon la loi de Student\n",
    "ic_inf_t = moyenne_echantillon - t_alpha_2 * erreur_standard_estimee\n",
    "ic_sup_t = moyenne_echantillon + t_alpha_2 * erreur_standard_estimee\n",
    "\n",
    "print(f\"Moyenne réelle : {mu_true}\")\n",
    "print(f\"Moyenne échantillonnale : {moyenne_echantillon:.4f}\")\n",
    "print(f\"Écart-type réel : {sigma_true}\")\n",
    "print(f\"Écart-type estimé : {ecart_type_estime:.4f}\")\n",
    "print(f\"Intervalle de confiance à 95% (loi normale) : [{ic_inf:.4f}, {ic_sup:.4f}]\")\n",
    "print(f\"Intervalle de confiance à 95% (loi de Student) : [{ic_inf_t:.4f}, {ic_sup_t:.4f}]\")"
   ]
  },
  {
   "cell_type": "markdown",
   "metadata": {},
   "source": [
    "Comparons les deux approches (variance connue vs. inconnue) :"
   ]
  },
  {
   "cell_type": "code",
   "execution_count": null,
   "metadata": {},
   "outputs": [],
   "source": [
    "plt.figure(figsize=(12, 6))\n",
    "\n",
    "# Densité de la loi normale\n",
    "x = np.linspace(moyenne_echantillon - 4*erreur_standard, moyenne_echantillon + 4*erreur_standard, 1000)\n",
    "y_norm = stats.norm.pdf(x, moyenne_echantillon, erreur_standard)\n",
    "plt.plot(x, y_norm, 'b-', linewidth=2, label='Loi normale (variance connue)')\n",
    "\n",
    "# Densité de la loi de Student\n",
    "# On ajuste l'échelle pour la comparaison\n",
    "y_t = stats.t.pdf((x - moyenne_echantillon) / erreur_standard_estimee, df=taille_echantillon-1) / erreur_standard_estimee\n",
    "plt.plot(x, y_t, 'r-', linewidth=2, label='Loi de Student (variance inconnue)')\n",
    "\n",
    "# Coloration des intervalles de confiance\n",
    "plt.axvspan(ic_inf, ic_sup, alpha=0.2, color='blue', label='IC Loi normale')\n",
    "plt.axvspan(ic_inf_t, ic_sup_t, alpha=0.2, color='red', label='IC Loi de Student')\n",
    "\n",
    "plt.axvline(x=mu_true, color='k', linestyle='--', label='Moyenne réelle')\n",
    "plt.axvline(x=moyenne_echantillon, color='g', linestyle='-', label='Moyenne échantillonnale')\n",
    "\n",
    "plt.title('Comparaison des intervalles de confiance (variance connue vs. inconnue)')\n",
    "plt.xlabel('Valeur')\n",
    "plt.ylabel('Densité')\n",
    "plt.legend()\n",
    "plt.grid(True)\n",
    "plt.show()"
   ]
  },
  {
   "cell_type": "markdown",
   "metadata": {},
   "source": [
    "Voyons l'impact de la taille de l'échantillon sur la différence entre les deux approches :"
   ]
  },
  {
   "cell_type": "code",
   "execution_count": null,
   "metadata": {},
   "outputs": [],
   "source": [
    "# Différentes tailles d'échantillon\n",
    "tailles = [5, 10, 20, 30, 50, 100, 500]\n",
    "largeurs_norm = []\n",
    "largeurs_t = []\n",
    "\n",
    "for n in tailles:\n",
    "    # Erreur standard\n",
    "    erreur_std = sigma_true / np.sqrt(n)\n",
    "    # Largeur de l'intervalle de confiance (variance connue)\n",
    "    largeur_norm = 2 * z_alpha_2 * erreur_std\n",
    "    largeurs_norm.append(largeur_norm)\n",
    "    # Erreur standard estimée\n",
    "    erreur_std_estimee = ecart_type_estime / np.sqrt(n)\n",
    "    # Largeur de l'intervalle de confiance (variance inconnue)\n",
    "    largeur_t = 2 * t_alpha_2 * erreur_std_estimee\n",
    "    largeurs_t.append(largeur_t)\n",
    "\n",
    "plt.figure(figsize=(10, 6))\n",
    "plt.plot(tailles, largeurs_norm, 'bo-', linewidth=2, label='Variance connue')\n",
    "plt.plot(tailles, largeurs_t, 'ro-', linewidth=2, label='Variance inconnue')\n",
    "plt.title('Largeur de l\\'intervalle de confiance en fonction de la taille de l\\'échantillon')\n",
    "plt.xlabel('Taille de l\\'échantillon')\n",
    "plt.ylabel('Largeur de l\\'intervalle')\n",
    "plt.xscale('log')\n",
    "plt.legend()\n",
    "plt.grid(True)\n",
    "plt.show()"
   ]
  }
 ],
 "metadata": {
  "kernelspec": {
   "display_name": ".venv",
   "language": "python",
   "name": "python3"
  },
  "language_info": {
   "codemirror_mode": {
    "name": "ipython",
    "version": 3
   },
   "file_extension": ".py",
   "mimetype": "text/x-python",
   "name": "python",
   "nbconvert_exporter": "python",
   "pygments_lexer": "ipython3",
   "version": "3.12.3"
  }
 },
 "nbformat": 4,
 "nbformat_minor": 2
}
