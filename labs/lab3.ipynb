{
 "cells": [
  {
   "cell_type": "markdown",
   "metadata": {},
   "source": [
    "# TP Estimation de Proportions avec Dataset Digits\n",
    "\n",
    "Dans ce TP, nous allons explorer l'estimation par intervalle de confiance pour une proportion en utilisant le jeu de données `digits` de scikit-learn. Nous allons estimer la proportion de certains chiffres dans le dataset et construire des intervalles de confiance."
   ]
  },
  {
   "cell_type": "code",
   "execution_count": null,
   "metadata": {},
   "outputs": [],
   "source": [
    "# Importation des bibliothèques nécessaires\n",
    "import numpy as np\n",
    "import matplotlib.pyplot as plt\n",
    "import scipy.stats as stats\n",
    "from sklearn.datasets import load_digits\n",
    "from sklearn.model_selection import train_test_split\n",
    "\n",
    "# Configuration de l'affichage\n",
    "plt.style.use('seaborn-v0_8-whitegrid')\n",
    "np.random.seed(0)  # Pour la reproductibilité"
   ]
  },
  {
   "cell_type": "markdown",
   "metadata": {},
   "source": [
    "## 1. Chargement et exploration des données\n",
    "\n",
    "Nous commençons par charger le jeu de données `digits` qui contient des images 8x8 de chiffres manuscrits (de 0 à 9)."
   ]
  },
  {
   "cell_type": "code",
   "execution_count": null,
   "metadata": {},
   "outputs": [],
   "source": [
    "# Chargement du dataset digits\n",
    "digits = load_digits()\n",
    "X = digits.data\n",
    "y = digits.target\n",
    "\n",
    "# Affichage de quelques informations sur le dataset\n",
    "print(f\"Forme des données: {X.shape}\")\n",
    "print(f\"Nombre d'échantillons: {len(y)}\")\n",
    "print(f\"Distribution des classes:\")\n",
    "for i in range(10):\n",
    "    print(f\"  Chiffre {i}: {np.sum(y == i)} échantillons\")"
   ]
  },
  {
   "cell_type": "markdown",
   "metadata": {},
   "source": [
    "Visualisons quelques exemples d'images de chiffres :"
   ]
  },
  {
   "cell_type": "code",
   "execution_count": null,
   "metadata": {},
   "outputs": [],
   "source": [
    "# Affichage de quelques exemples\n",
    "fig, axes = plt.subplots(2, 5, figsize=(12, 5))\n",
    "for i, ax in enumerate(axes.flat):\n",
    "    # Sélection aléatoire d'un exemple pour chaque chiffre\n",
    "    idx = np.random.choice(np.where(y == i)[0])\n",
    "    ax.imshow(digits.images[idx], cmap='gray')\n",
    "    ax.set_title(f'Chiffre: {y[idx]}')\n",
    "    ax.axis('off')\n",
    "plt.tight_layout()\n",
    "plt.show()"
   ]
  },
  {
   "cell_type": "markdown",
   "metadata": {},
   "source": [
    "## 2. Définition des événements binaires pour l'estimation de proportions\n",
    "\n",
    "Pour estimer des proportions, nous devons définir des événements binaires (succès/échec). Nous allons considérer plusieurs cas :\n",
    "1. La proportion de chiffres pairs\n",
    "2. La proportion de chiffres supérieurs ou égaux à 5\n",
    "3. La proportion d'un chiffre spécifique (ex: le chiffre 7)"
   ]
  },
  {
   "cell_type": "code",
   "execution_count": null,
   "metadata": {},
   "outputs": [],
   "source": [
    "# Définition des événements binaires\n",
    "est_pair = (y % 2 == 0).astype(int)  # 1 si le chiffre est pair, 0 sinon\n",
    "est_grand = (y >= 5).astype(int)     # 1 si le chiffre est >= 5, 0 sinon\n",
    "est_sept = (y == 7).astype(int)      # 1 si le chiffre est 7, 0 sinon\n",
    "\n",
    "# Calcul des proportions réelles dans l'ensemble complet\n",
    "p_pair_reel = np.mean(est_pair)\n",
    "p_grand_reel = np.mean(est_grand)\n",
    "p_sept_reel = np.mean(est_sept)\n",
    "\n",
    "print(f\"Proportion réelle de chiffres pairs: {p_pair_reel:.4f}\")\n",
    "print(f\"Proportion réelle de chiffres >= 5: {p_grand_reel:.4f}\")\n",
    "print(f\"Proportion réelle de chiffres = 7: {p_sept_reel:.4f}\")"
   ]
  },
  {
   "cell_type": "markdown",
   "metadata": {},
   "source": [
    "## 3. Estimation par intervalle de confiance pour une proportion\n",
    "\n",
    "Nous allons maintenant diviser nos données en ensemble d'apprentissage et de test, puis estimer les proportions sur l'ensemble d'apprentissage et construire des intervalles de confiance."
   ]
  },
  {
   "cell_type": "code",
   "execution_count": null,
   "metadata": {},
   "outputs": [],
   "source": [
    "# Division en ensembles d'apprentissage et de test\n",
    "y_train, y_test = train_test_split(y, test_size=0.3, random_state=42)\n",
    "\n",
    "# Calcul des événements binaires sur l'ensemble d'apprentissage\n",
    "est_pair_train = (y_train % 2 == 0).astype(int)\n",
    "est_grand_train = (y_train >= 5).astype(int)\n",
    "est_sept_train = (y_train == 7).astype(int)\n",
    "\n",
    "# Taille de l'échantillon\n",
    "taille_echantillon = len(y_train)\n",
    "print(f\"Taille de l'échantillon d'apprentissage: {taille_echantillon}\")"
   ]
  },
  {
   "cell_type": "markdown",
   "metadata": {},
   "source": [
    "### 3.1 Intervalle de confiance avec l'approximation normale\n",
    "\n",
    "Pour n assez grand (généralement n*p ≥ 5 et n*(1-p) ≥ 5), on peut utiliser l'approximation normale. L'erreur standard de $\\hat{p}$ est donnée par $\\sqrt{\\frac{p(1-p)}{n}}$."
   ]
  },
  {
   "cell_type": "code",
   "execution_count": null,
   "metadata": {},
   "outputs": [],
   "source": [
    "# Fonction pour calculer l'intervalle de confiance avec l'approximation normale\n",
    "def intervalle_confiance_normal(echantillon, alpha=0.05):\n",
    "    p_hat = np.mean(echantillon)\n",
    "    n = len(echantillon)\n",
    "    z_alpha_2 = stats.norm.ppf(1 - alpha/2)\n",
    "    erreur_standard = np.sqrt(p_hat * (1 - p_hat) / n)\n",
    "    \n",
    "    ic_inf = max(0, p_hat - z_alpha_2 * erreur_standard)\n",
    "    ic_sup = min(1, p_hat + z_alpha_2 * erreur_standard)\n",
    "    \n",
    "    return p_hat, ic_inf, ic_sup\n",
    "\n",
    "# Calcul des estimations et intervalles de confiance\n",
    "p_pair_hat, ic_inf_pair, ic_sup_pair = intervalle_confiance_normal(est_pair_train)\n",
    "p_grand_hat, ic_inf_grand, ic_sup_grand = intervalle_confiance_normal(est_grand_train)\n",
    "p_sept_hat, ic_inf_sept, ic_sup_sept = intervalle_confiance_normal(est_sept_train)\n",
    "\n",
    "# Affichage des résultats\n",
    "print(\"Méthode de l'approximation normale:\")\n",
    "print(f\"Proportion de chiffres pairs:\")\n",
    "print(f\"  - Proportion réelle: {p_pair_reel:.4f}\")\n",
    "print(f\"  - Proportion estimée: {p_pair_hat:.4f}\")\n",
    "print(f\"  - Intervalle de confiance à 95%: [{ic_inf_pair:.4f}, {ic_sup_pair:.4f}]\")\n",
    "print(f\"  - La proportion réelle est dans l'intervalle: {ic_inf_pair <= p_pair_reel <= ic_sup_pair}\")\n",
    "\n",
    "print(f\"\\nProportion de chiffres >= 5:\")\n",
    "print(f\"  - Proportion réelle: {p_grand_reel:.4f}\")\n",
    "print(f\"  - Proportion estimée: {p_grand_hat:.4f}\")\n",
    "print(f\"  - Intervalle de confiance à 95%: [{ic_inf_grand:.4f}, {ic_sup_grand:.4f}]\")\n",
    "print(f\"  - La proportion réelle est dans l'intervalle: {ic_inf_grand <= p_grand_reel <= ic_sup_grand}\")\n",
    "\n",
    "print(f\"\\nProportion de chiffres = 7:\")\n",
    "print(f\"  - Proportion réelle: {p_sept_reel:.4f}\")\n",
    "print(f\"  - Proportion estimée: {p_sept_hat:.4f}\")\n",
    "print(f\"  - Intervalle de confiance à 95%: [{ic_inf_sept:.4f}, {ic_sup_sept:.4f}]\")\n",
    "print(f\"  - La proportion réelle est dans l'intervalle: {ic_inf_sept <= p_sept_reel <= ic_sup_sept}\")"
   ]
  },
  {
   "cell_type": "markdown",
   "metadata": {},
   "source": [
    "Visualisons les intervalles de confiance pour les trois proportions :"
   ]
  },
  {
   "cell_type": "code",
   "execution_count": null,
   "metadata": {},
   "outputs": [],
   "source": [
    "# Fonction pour visualiser l'intervalle de confiance\n",
    "def visualiser_ic(p_hat, ic_inf, ic_sup, p_reel, titre):\n",
    "    erreur_standard = (ic_sup - ic_inf) / (2 * stats.norm.ppf(0.975))\n",
    "    \n",
    "    plt.figure(figsize=(10, 6))\n",
    "    \n",
    "    # Densité de la loi normale de la proportion échantillonnale\n",
    "    x = np.linspace(max(0, p_hat - 4*erreur_standard), min(1, p_hat + 4*erreur_standard), 1000)\n",
    "    y = stats.norm.pdf(x, p_hat, erreur_standard)\n",
    "    \n",
    "    plt.plot(x, y, 'b-', linewidth=2, label='Distribution de la proportion échantillonnale')\n",
    "    \n",
    "    # Coloration de l'intervalle de confiance\n",
    "    x_ic = np.linspace(max(0, ic_inf), min(1, ic_sup), 100)\n",
    "    y_ic = stats.norm.pdf(x_ic, p_hat, erreur_standard)\n",
    "    plt.fill_between(x_ic, y_ic, color='skyblue', alpha=0.4, label='Intervalle de confiance à 95%')\n",
    "    \n",
    "    # Ajout des lignes verticales\n",
    "    plt.axvline(x=p_reel, color='r', linestyle='--', label='Proportion réelle')\n",
    "    plt.axvline(x=p_hat, color='g', linestyle='-', label='Proportion estimée')\n",
    "    plt.axvline(x=max(0, ic_inf), color='b', linestyle=':', label='Bornes de l\\'intervalle')\n",
    "    plt.axvline(x=min(1, ic_sup), color='b', linestyle=':')\n",
    "    \n",
    "    plt.title(titre)\n",
    "    plt.xlabel('Valeur de la proportion')\n",
    "    plt.ylabel('Densité')\n",
    "    plt.legend()\n",
    "    plt.grid(True)\n",
    "    plt.show()\n",
    "\n",
    "# Visualisation des intervalles de confiance\n",
    "visualiser_ic(p_pair_hat, ic_inf_pair, ic_sup_pair, p_pair_reel, 'Intervalle de confiance pour la proportion de chiffres pairs')\n",
    "visualiser_ic(p_grand_hat, ic_inf_grand, ic_sup_grand, p_grand_reel, 'Intervalle de confiance pour la proportion de chiffres >= 5')\n",
    "visualiser_ic(p_sept_hat, ic_inf_sept, ic_sup_sept, p_sept_reel, 'Intervalle de confiance pour la proportion de chiffres = 7')"
   ]
  },
  {
   "cell_type": "markdown",
   "metadata": {},
   "source": [
    "### 3.2 Intervalle de Wilson\n",
    "\n",
    "L'intervalle de Wilson est une méthode plus précise pour estimer l'intervalle de confiance d'une proportion, notamment pour les petits échantillons ou les proportions proches de 0 ou 1."
   ]
  },
  {
   "cell_type": "code",
   "execution_count": null,
   "metadata": {},
   "outputs": [],
   "source": [
    "# Fonction pour calculer l'intervalle de Wilson\n",
    "def intervalle_wilson(echantillon, alpha=0.05):\n",
    "    p_hat = np.mean(echantillon)\n",
    "    n = len(echantillon)\n",
    "    X = int(p_hat * n)  # Nombre de succès\n",
    "    z_alpha_2 = stats.norm.ppf(1 - alpha/2)\n",
    "    \n",
    "    # Terme central\n",
    "    centre = (X + z_alpha_2**2/2) / (n + z_alpha_2**2)\n",
    "    \n",
    "    # Terme de marge\n",
    "    marge = z_alpha_2 * np.sqrt((X * (n - X) / n + z_alpha_2**2/4) / (n + z_alpha_2**2))\n",
    "    \n",
    "    # Limites de l'intervalle\n",
    "    ic_inf = max(0, centre - marge)\n",
    "    ic_sup = min(1, centre + marge)\n",
    "    \n",
    "    return p_hat, ic_inf, ic_sup\n",
    "\n",
    "# Calcul des estimations et intervalles de Wilson\n",
    "p_pair_hat_w, ic_inf_pair_w, ic_sup_pair_w = intervalle_wilson(est_pair_train)\n",
    "p_grand_hat_w, ic_inf_grand_w, ic_sup_grand_w = intervalle_wilson(est_grand_train)\n",
    "p_sept_hat_w, ic_inf_sept_w, ic_sup_sept_w = intervalle_wilson(est_sept_train)\n",
    "\n",
    "# Affichage des résultats\n",
    "print(\"Méthode de Wilson:\")\n",
    "print(f\"Proportion de chiffres pairs:\")\n",
    "print(f\"  - Proportion réelle: {p_pair_reel:.4f}\")\n",
    "print(f\"  - Proportion estimée: {p_pair_hat_w:.4f}\")\n",
    "print(f\"  - Intervalle de Wilson à 95%: [{ic_inf_pair_w:.4f}, {ic_sup_pair_w:.4f}]\")\n",
    "print(f\"  - La proportion réelle est dans l'intervalle: {ic_inf_pair_w <= p_pair_reel <= ic_sup_pair_w}\")\n",
    "\n",
    "print(f\"\\nProportion de chiffres >= 5:\")\n",
    "print(f\"  - Proportion réelle: {p_grand_reel:.4f}\")\n",
    "print(f\"  - Proportion estimée: {p_grand_hat_w:.4f}\")\n",
    "print(f\"  - Intervalle de Wilson à 95%: [{ic_inf_grand_w:.4f}, {ic_sup_grand_w:.4f}]\")\n",
    "print(f\"  - La proportion réelle est dans l'intervalle: {ic_inf_grand_w <= p_grand_reel <= ic_sup_grand_w}\")\n",
    "\n",
    "print(f\"\\nProportion de chiffres = 7:\")\n",
    "print(f\"  - Proportion réelle: {p_sept_reel:.4f}\")\n",
    "print(f\"  - Proportion estimée: {p_sept_hat_w:.4f}\")\n",
    "print(f\"  - Intervalle de Wilson à 95%: [{ic_inf_sept_w:.4f}, {ic_sup_sept_w:.4f}]\")\n",
    "print(f\"  - La proportion réelle est dans l'intervalle: {ic_inf_sept_w <= p_sept_reel <= ic_sup_sept_w}\")"
   ]
  },
  {
   "cell_type": "markdown",
   "metadata": {},
   "source": [
    "## 4. Comparaison des méthodes pour différentes tailles d'échantillon\n",
    "\n",
    "Nous allons maintenant comparer les deux méthodes (normale et Wilson) pour différentes tailles d'échantillon et évaluer leur performance en termes de taux de couverture et de largeur d'intervalle."
   ]
  },
  {
   "cell_type": "code",
   "execution_count": null,
   "metadata": {},
   "outputs": [],
   "source": [
    "# Différentes tailles d'échantillon à tester\n",
    "tailles = [20, 50, 100, 200, 500, 1000]\n",
    "alpha = 0.05  # Niveau de confiance de 95%\n",
    "n_simulations = 500  # Nombre de simulations pour chaque taille\n",
    "\n",
    "# Nous allons nous concentrer sur la proportion de chiffres = 7 (cas d'une proportion faible)\n",
    "p_reel = p_sept_reel\n",
    "est_event = est_sept\n",
    "\n",
    "# Préparation des structures pour stocker les résultats\n",
    "couverture_norm = []\n",
    "couverture_wilson = []\n",
    "largeurs_norm = []\n",
    "largeurs_wilson = []\n",
    "\n",
    "for n in tailles:\n",
    "    compteur_norm = 0\n",
    "    compteur_wilson = 0\n",
    "    largeur_norm_total = 0\n",
    "    largeur_wilson_total = 0\n",
    "    \n",
    "    for _ in range(n_simulations):\n",
    "        # Échantillonnage avec remplacement\n",
    "        indices = np.random.choice(len(est_event), size=n, replace=True)\n",
    "        echantillon = est_event[indices]\n",
    "        \n",
    "        # Méthode normale\n",
    "        _, ic_inf_n, ic_sup_n = intervalle_confiance_normal(echantillon, alpha)\n",
    "        \n",
    "        # Méthode de Wilson\n",
    "        _, ic_inf_w, ic_sup_w = intervalle_wilson(echantillon, alpha)\n",
    "        \n",
    "        # Vérification de la couverture\n",
    "        if ic_inf_n <= p_reel <= ic_sup_n:\n",
    "            compteur_norm += 1\n",
    "        if ic_inf_w <= p_reel <= ic_sup_w:\n",
    "            compteur_wilson += 1\n",
    "            \n",
    "        # Calcul des largeurs\n",
    "        largeur_norm_total += (ic_sup_n - ic_inf_n)\n",
    "        largeur_wilson_total += (ic_sup_w - ic_inf_w)\n",
    "    \n",
    "    # Moyenne des résultats\n",
    "    couverture_norm.append(compteur_norm / n_simulations)\n",
    "    couverture_wilson.append(compteur_wilson / n_simulations)\n",
    "    largeurs_norm.append(largeur_norm_total / n_simulations)\n",
    "    largeurs_wilson.append(largeur_wilson_total / n_simulations)\n",
    "\n",
    "    print(f\"Taille {n} terminée.\")"
   ]
  },
  {
   "cell_type": "code",
   "execution_count": null,
   "metadata": {},
   "outputs": [],
   "source": [
    "# Visualisation des résultats\n",
    "fig, (ax1, ax2) = plt.subplots(1, 2, figsize=(16, 6))\n",
    "\n",
    "# Taux de couverture\n",
    "ax1.plot(tailles, couverture_norm, 'bo-', linewidth=2, label='Méthode normale')\n",
    "ax1.plot(tailles, couverture_wilson, 'ro-', linewidth=2, label='Méthode de Wilson')\n",
    "ax1.axhline(y=1-alpha, color='k', linestyle='--', label='Niveau nominal (95%)')\n",
    "ax1.set_title('Taux de couverture des intervalles de confiance (Chiffre 7)')\n",
    "ax1.set_xlabel('Taille de l\\'échantillon')\n",
    "ax1.set_ylabel('Taux de couverture')\n",
    "ax1.set_xscale('log')\n",
    "ax1.legend()\n",
    "ax1.grid(True)\n",
    "\n",
    "# Largeur des intervalles\n",
    "ax2.plot(tailles, largeurs_norm, 'bo-', linewidth=2, label='Méthode normale')\n",
    "ax2.plot(tailles, largeurs_wilson, 'ro-', linewidth=2, label='Méthode de Wilson')\n",
    "ax2.set_title('Largeur moyenne des intervalles de confiance (Chiffre 7)')\n",
    "ax2.set_xlabel('Taille de l\\'échantillon')\n",
    "ax2.set_ylabel('Largeur moyenne')\n",
    "ax2.set_xscale('log')\n",
    "ax2.legend()\n",
    "ax2.grid(True)\n",
    "\n",
    "plt.tight_layout()\n",
    "plt.show()"
   ]
  },
  {
   "cell_type": "markdown",
   "metadata": {},
   "source": [
    "# Rendu de TP"
   ]
  },
  {
   "cell_type": "markdown",
   "metadata": {},
   "source": [
    "Faire la meme analyse sur le dataset digits en considerant:\n",
    "- La proportion du chiffre 1\n",
    "- La proportion des chiffres entre 3 et 7 inclus"
   ]
  }
 ],
 "metadata": {
  "kernelspec": {
   "display_name": ".venv",
   "language": "python",
   "name": "python3"
  },
  "language_info": {
   "codemirror_mode": {
    "name": "ipython",
    "version": 3
   },
   "file_extension": ".py",
   "mimetype": "text/x-python",
   "name": "python",
   "nbconvert_exporter": "python",
   "pygments_lexer": "ipython3",
   "version": "3.12.3"
  }
 },
 "nbformat": 4,
 "nbformat_minor": 4
}
