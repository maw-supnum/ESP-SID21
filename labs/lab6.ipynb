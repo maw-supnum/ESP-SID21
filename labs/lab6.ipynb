{
 "cells": [
  {
   "cell_type": "markdown",
   "metadata": {},
   "source": [
    "# Régression Linéaire"
   ]
  },
  {
   "cell_type": "markdown",
   "metadata": {
    "vscode": {
     "languageId": "latex"
    }
   },
   "source": [
    "Dans un modèle linéaire, nous supposons que la valeur à prédire $y$ est une combinaison linéaire des variables d'entrée $ X \\in R^p $ plus un bruit $ \\epsilon $. Mathématiquement, cela peut être exprimé comme :\n",
    "\n",
    "$ y = \\beta_0 + \\beta_1 X + \\epsilon $\n",
    "\n",
    "où :\n",
    "- $ y $ est la variable dépendante (la valeur à prédire),\n",
    "- $ X $ est le vecteur de valeurs représentant les variables d'entrée,\n",
    "- $ \\beta_0 $ est l'ordonnée à l'origine,\n",
    "- $ \\beta_1 $ est le vecteur des coefficients pour les variables d'entrée,\n",
    "- $ \\epsilon $ est le terme d'erreur (bruit).\n",
    "\n",
    "\n",
    "Nous pouvons supposer que $ \\beta_0 = 0 $ et $ E(\\epsilon) = 0$, car nous pouvons simplement étendre $ X $ à $R^{p+1}$, en ajoutant une colonne de uns qui pourrait correspondre à la somme de l'ordonnée à l'origine et de l'espérance du terme d'erreur."
   ]
  },
  {
   "cell_type": "markdown",
   "metadata": {},
   "source": [
    "## Estimateur des Moindres Carrés"
   ]
  },
  {
   "cell_type": "code",
   "execution_count": null,
   "metadata": {},
   "outputs": [],
   "source": [
    "# importations\n",
    "import numpy as np\n",
    "import matplotlib.pyplot as plt"
   ]
  },
  {
   "cell_type": "code",
   "execution_count": null,
   "metadata": {},
   "outputs": [],
   "source": [
    "# définir la graine aléatoire\n",
    "np.random.seed(0)\n",
    "\n",
    "# nombre d'échantillons\n",
    "n = 100\n",
    "\n",
    "# nombre de variables d'entrée\n",
    "p = 1\n",
    "\n",
    "# données d'entrée supposées suivre une distribution normale\n",
    "# la première colonne est composée de uns (ordonnée à l'origine + espérance de l'erreur)\n",
    "# nous définissons les données d'entrée avec une moyenne de 0 et un écart-type de 4\n",
    "sigma = 4\n",
    "X = np.concatenate((np.ones(n)[:, None], (sigma * np.random.randn(n, p))), axis=1)\n",
    "\n",
    "# générer le terme d'erreur\n",
    "# nous définissons le terme d'erreur avec une moyenne de 0 et un écart-type de 3\n",
    "epsilon = 3*np.random.randn(n)\n",
    "\n",
    "# définir beta\n",
    "beta = np.array([3.2, 2.1])\n",
    "\n",
    "# générer la variable de réponse\n",
    "y = X.dot(beta) + epsilon"
   ]
  },
  {
   "cell_type": "code",
   "execution_count": null,
   "metadata": {},
   "outputs": [],
   "source": [
    "# étiquettes des axes\n",
    "plt.xlabel('X')\n",
    "plt.ylabel('y')\n",
    "\n",
    "# tracer les données\n",
    "plt.scatter(X[:, 1], y)\n",
    "plt.show()"
   ]
  },
  {
   "cell_type": "markdown",
   "metadata": {},
   "source": [
    "Nous pouvons déduire les estimations des moindres carrés des coefficients $ \\beta_0 $ et $ \\beta_1 $ en utilisant les formules suivantes :\n",
    "$ \\beta^*= (X^TX)^{-1}X^Ty$"
   ]
  },
  {
   "cell_type": "code",
   "execution_count": null,
   "metadata": {},
   "outputs": [],
   "source": [
    "# déduire la pente et l'ordonnée à l'origine\n",
    "beta_hat = np.linalg.inv(X.T.dot(X)).dot(X.T).dot(y)\n",
    "\n",
    "# afficher la pente et l'ordonnée à l'origine estimées\n",
    "print('Pente estimée: ', beta_hat[1])\n",
    "print('Ordonnée à l\\'origine estimée: ', beta_hat[0])\n",
    "\n",
    "# afficher la pente et l'ordonnée à l'origine réelles\n",
    "print('Pente réelle: ', beta[1])\n",
    "print('Ordonnée à l\\'origine réelle: ', beta[0])\n",
    "\n",
    "# tracer les données et la droite ajustée\n",
    "plt.xlabel('X')\n",
    "plt.ylabel('y')\n",
    "plt.scatter(X[:, 1], y)\n",
    "plt.plot(X[:, 1], X.dot(beta_hat), color='red')\n",
    "plt.show()\n",
    "\n"
   ]
  },
  {
   "cell_type": "markdown",
   "metadata": {},
   "source": [
    "## Test de Fisher\n",
    "\n",
    "Nous voulons tester l'hypothèse nulle selon laquelle le coefficient $ \\beta_1 $ est égal à zéro. Nous pouvons utiliser le test de Fisher pour cela. La statistique de test est donnée par :\n",
    "\n",
    "$ F = \\frac{R^2\\times(n-p-1)}{(1-R^2)p} $ \n",
    "\n",
    "avec $ R^2 = \\frac{\\Sigma_i(\\beta^*.X_i - \\bar{y})^2}{\\Sigma_i(\\beta^*.X_i - y_i)^2} $\n",
    "\n"
   ]
  },
  {
   "cell_type": "code",
   "execution_count": null,
   "metadata": {},
   "outputs": [],
   "source": [
    "from scipy.stats import f\n",
    "\n",
    "\n",
    "# calculer les résidus\n",
    "R_2 = ((y.mean() - X.dot(beta_hat))**2).sum() / ((y - y.mean())**2).sum()\n",
    "\n",
    "# calculer la statistique F\n",
    "F = R_2 * (n - p - 1) / ((1 - R_2) * p)\n",
    "\n",
    "# afficher les résultats\n",
    "print(f\"Le seuil de rejet est : {f.ppf(0.95, p, n - p - 1)}\")\n",
    "print(f\"La statistique F est : {F}\")\n",
    "print(f\"La p-valeur est : {1 - f.cdf(F, p, n - p - 1)}\")\n"
   ]
  },
  {
   "cell_type": "markdown",
   "metadata": {},
   "source": [
    "Nous construisons un cadre où l'hypothèse nulle est vraie. Nous générons un ensemble de données avec une relation linéaire entre la variable d'entrée et la variable de sortie, et nous testons si le test de Fisher peut rejeter l'hypothèse nulle."
   ]
  },
  {
   "cell_type": "code",
   "execution_count": null,
   "metadata": {},
   "outputs": [],
   "source": [
    "# y ne dépend pas de la deuxième colonne de X\n",
    "y_test_2 = epsilon\n",
    "\n",
    "# déduire la pente et l'ordonnée à l'origine\n",
    "beta_hat_2 = np.linalg.inv(X.T.dot(X)).dot(X.T).dot(y_test_2)\n",
    "\n",
    "# calculer les résidus\n",
    "R_2_2 = ((y_test_2.mean() - X.dot(beta_hat_2))**2).sum() / ((y_test_2 - y_test_2.mean())**2).sum()\n",
    "\n",
    "# calculer la statistique F\n",
    "F_2 = R_2_2 * (n - p - 1) / ((1 - R_2_2) * p)\n",
    "\n",
    "# afficher les résultats\n",
    "print(f\"Le seuil de rejet est : {f.ppf(0.95, p, n - p - 1)}\")\n",
    "print(f\"La statistique F est : {F_2}\")\n",
    "print(f\"La p-valeur est : {1 - f.cdf(F_2, p, n - p - 1)}\")"
   ]
  },
  {
   "cell_type": "markdown",
   "metadata": {},
   "source": [
    "## Test de Student\n",
    "\n",
    "Nous pouvons également tester l'hypothèse nulle selon laquelle le coefficient $ \\beta_1 $ est égal à zéro en utilisant le test de Student. La statistique de test est donnée par :\n",
    "\n",
    "$ t = \\frac{\\beta_1}{\\sigma_1} $\n",
    "\n",
    "\n",
    "# Rendu de TP\n",
    "\n",
    "Générez trois cas :\n",
    "- Un cas où l'hypothèse nulle est vraie pour toutes les composantes, $p=2$ et $n=100$. \n",
    "- Un cas où l'hypothèse nulle est vraie pour une composante, $p=2$ et $n=100$.\n",
    "- Un cas où l'hypothèse nulle est fausse pour toutes les composantes, $p=2$ et $n=100$.\n",
    "\n",
    "Fixez la graine à $0$ à des fins de reproductibilité.\n"
   ]
  },
  {
   "cell_type": "markdown",
   "metadata": {},
   "source": [
    "# "
   ]
  }
 ],
 "metadata": {
  "kernelspec": {
   "display_name": ".venv",
   "language": "python",
   "name": "python3"
  },
  "language_info": {
   "codemirror_mode": {
    "name": "ipython",
    "version": 3
   },
   "file_extension": ".py",
   "mimetype": "text/x-python",
   "name": "python",
   "nbconvert_exporter": "python",
   "pygments_lexer": "ipython3",
   "version": "3.12.3"
  }
 },
 "nbformat": 4,
 "nbformat_minor": 4
}
